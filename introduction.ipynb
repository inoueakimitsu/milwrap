{
  "nbformat": 4,
  "nbformat_minor": 0,
  "metadata": {
    "colab": {
      "name": "introduction.ipynb",
      "provenance": [],
      "collapsed_sections": []
    },
    "kernelspec": {
      "name": "python3",
      "display_name": "Python 3"
    },
    "language_info": {
      "name": "python"
    }
  },
  "cells": [
    {
      "cell_type": "code",
      "metadata": {
        "colab": {
          "base_uri": "https://localhost:8080/"
        },
        "id": "HqMYP0X1m5JN",
        "outputId": "cfba9a93-b17b-4fc6-b39d-3539109f37ab"
      },
      "source": [
        "!pip install milwrap"
      ],
      "execution_count": 1,
      "outputs": [
        {
          "output_type": "stream",
          "name": "stdout",
          "text": [
            "Collecting milwrap\n",
            "  Downloading milwrap-0.1.1-py3-none-any.whl (4.8 kB)\n",
            "Requirement already satisfied: pandas in /usr/local/lib/python3.7/dist-packages (from milwrap) (1.1.5)\n",
            "Requirement already satisfied: numpy in /usr/local/lib/python3.7/dist-packages (from milwrap) (1.19.5)\n",
            "Requirement already satisfied: scikit-learn in /usr/local/lib/python3.7/dist-packages (from milwrap) (0.22.2.post1)\n",
            "Requirement already satisfied: pytz>=2017.2 in /usr/local/lib/python3.7/dist-packages (from pandas->milwrap) (2018.9)\n",
            "Requirement already satisfied: python-dateutil>=2.7.3 in /usr/local/lib/python3.7/dist-packages (from pandas->milwrap) (2.8.2)\n",
            "Requirement already satisfied: six>=1.5 in /usr/local/lib/python3.7/dist-packages (from python-dateutil>=2.7.3->pandas->milwrap) (1.15.0)\n",
            "Requirement already satisfied: scipy>=0.17.0 in /usr/local/lib/python3.7/dist-packages (from scikit-learn->milwrap) (1.4.1)\n",
            "Requirement already satisfied: joblib>=0.11 in /usr/local/lib/python3.7/dist-packages (from scikit-learn->milwrap) (1.0.1)\n",
            "Installing collected packages: milwrap\n",
            "Successfully installed milwrap-0.1.1\n"
          ]
        }
      ]
    },
    {
      "cell_type": "code",
      "metadata": {
        "id": "buD11EQ7n3D7"
      },
      "source": [
        "import pandas as pd\n",
        "import numpy as np\n",
        "from milwrap.countbase import MilCountBasedMultiClassLearner"
      ],
      "execution_count": null,
      "outputs": []
    },
    {
      "cell_type": "code",
      "metadata": {
        "colab": {
          "base_uri": "https://localhost:8080/"
        },
        "id": "-lPhk5dWn-yz",
        "outputId": "8b2397b4-dc51-4d03-c33b-674a854d2d46"
      },
      "source": [
        "# Generate dataset\n",
        "\n",
        "def generate_class_ratios(n_classes):\n",
        "    \n",
        "    while True:\n",
        "        use_classes = np.random.choice([0, 1], size=n_classes, p=[.8, .2])\n",
        "        if not np.all(use_classes == 0):\n",
        "            break\n",
        "    \n",
        "    ratio_classes = use_classes * np.random.uniform(low=0, high=1, size=n_classes)\n",
        "    ratio_classes = ratio_classes**4\n",
        "    ratio_classes = ratio_classes / np.sum(ratio_classes)\n",
        "\n",
        "    return ratio_classes\n",
        "\n",
        "def generate_instance(n_classes, n_instances_of_each_bags):\n",
        "\n",
        "    class_labels_of_intance_in_bags = [np.random.choice(\n",
        "        np.arange(n_classes),\n",
        "        size=n_instance_in_bag,\n",
        "        p=generate_class_ratios(n_classes)) for n_instance_in_bag in n_instances_of_each_bags]\n",
        "    \n",
        "    return class_labels_of_intance_in_bags\n",
        "\n",
        "np.random.seed(123)\n",
        "\n",
        "n_classes = 15\n",
        "n_bags = 100\n",
        "n_max_instance_in_one_bag = 1000\n",
        "n_instances_of_each_bags = [np.random.randint(low=0, high=n_max_instance_in_one_bag) for _ in range(n_bags)]\n",
        "class_labels_of_instance_in_bags = generate_instance(n_classes, n_instances_of_each_bags)\n",
        "count_each_class_of_instance_in_bags = [\n",
        "    pd.Series(x).value_counts().to_dict() for x in class_labels_of_instance_in_bags\n",
        "]\n",
        "count_each_class_of_instance_in_bags_matrix = \\\n",
        "    pd.DataFrame(count_each_class_of_instance_in_bags)[list(range(n_classes))].values\n",
        "count_each_class_of_instance_in_bags_matrix = np.nan_to_num(count_each_class_of_instance_in_bags_matrix)\n",
        "lower_threshold = np.zeros_like(count_each_class_of_instance_in_bags_matrix)\n",
        "upper_threshold = np.zeros_like(count_each_class_of_instance_in_bags_matrix)\n",
        "divisions = [0, 50, 100, 200, 1000, n_max_instance_in_one_bag]\n",
        "for i_bag in range(n_bags):\n",
        "    for i_class in range(n_classes):\n",
        "        positive_count = count_each_class_of_instance_in_bags_matrix[i_bag, i_class]\n",
        "        for i_division in range(len(divisions)-1):\n",
        "            if divisions[i_division] <= positive_count and positive_count < divisions[i_division+1]:\n",
        "                lower_threshold[i_bag, i_class] = divisions[i_division]\n",
        "                upper_threshold[i_bag, i_class] = divisions[i_division+1]\n",
        "\n",
        "n_fatures = 7\n",
        "x_min = 0\n",
        "x_max = 100\n",
        "cov_diag = 0.1*40**2\n",
        "\n",
        "means_of_classes = [np.random.uniform(low=x_min, high=x_max, size=n_fatures) for _ in range(n_classes)]\n",
        "covs_of_classes = [np.eye(n_fatures)*cov_diag for _ in range(n_classes)]\n",
        "bags = [\n",
        "    np.vstack([\n",
        "        np.random.multivariate_normal(\n",
        "            means_of_classes[class_label],\n",
        "            covs_of_classes[class_label],\n",
        "            size=1) for class_label in class_labels_of_instance_in_bag\n",
        "    ]) for class_labels_of_instance_in_bag in class_labels_of_instance_in_bags\n",
        "]"
      ],
      "execution_count": 4,
      "outputs": [
        {
          "output_type": "stream",
          "name": "stdout",
          "text": [
            "len(bags): 100\n"
          ]
        }
      ]
    },
    {
      "cell_type": "code",
      "metadata": {
        "colab": {
          "base_uri": "https://localhost:8080/"
        },
        "id": "6i_D53mAoYEG",
        "outputId": "0bdb3dfc-a671-49cd-b2ec-52b4bad45cc8"
      },
      "source": [
        "# Show dataset structures\n",
        "\n",
        "print(\"len(bags) =\", len(bags))\n",
        "print(\"bags[0].shape =\", bags[0].shape)\n",
        "print(\"bags[0][:4, :5] =\\n\", bags[0][:4, :5])\n",
        "print(\"lower_threshold.shape = \", lower_threshold.shape)\n",
        "print(\"lower_threshold[:3, :4] = \\n\", lower_threshold[:3, :4])\n",
        "print(\"upper_threshold.shape = \", upper_threshold.shape)\n",
        "print(\"upper_threshold[:3, :4] = \\n\", upper_threshold[:3, :4])"
      ],
      "execution_count": 14,
      "outputs": [
        {
          "output_type": "stream",
          "name": "stdout",
          "text": [
            "len(bags) = 100\n",
            "bags[0].shape = (510, 7)\n",
            "bags[0][:4, :5] =\n",
            " [[ 60.72742676  24.91347932  -6.96853301   1.22269867  53.49671751]\n",
            " [ 72.63044984  16.14588346  18.953747     0.56814811  32.67886356]\n",
            " [ 72.94026896 107.30726053  69.86360443   8.86078304 103.95422024]\n",
            " [ 49.38941779  34.00583834  -1.34933507  41.55929543  72.78695625]]\n",
            "lower_threshold.shape =  (100, 15)\n",
            "lower_threshold[:3, :4] = \n",
            " [[200.   0.   0.   0.]\n",
            " [  0.   0.   0.   0.]\n",
            " [  0.   0. 200.   0.]]\n",
            "upper_threshold.shape =  (100, 15)\n",
            "upper_threshold[:3, :4] = \n",
            " [[1000.   50.   50.   50.]\n",
            " [  50.   50.   50.   50.]\n",
            " [  50.   50. 1000.   50.]]\n"
          ]
        }
      ]
    },
    {
      "cell_type": "code",
      "metadata": {
        "colab": {
          "base_uri": "https://localhost:8080/"
        },
        "id": "nx1JwbKym7A_",
        "outputId": "e0718ea0-4c49-49e8-fde3-019120c420b0"
      },
      "source": [
        "from sklearn.tree import DecisionTreeClassifier\n",
        "clf = DecisionTreeClassifier(min_samples_leaf=10)\n",
        "\n",
        "learner = MilCountBasedMultiClassLearner(clf)\n",
        "clf_mil, y_mil = learner.fit(\n",
        "    bags,\n",
        "    lower_threshold,\n",
        "    upper_threshold,\n",
        "    n_classes,\n",
        "    debug_true_y=class_labels_of_instance_in_bags,\n",
        "    max_iter=10)\n",
        "\n",
        "print(\"MIL instance unit accuracy\")\n",
        "print(np.mean(clf_mil.predict(np.vstack(bags)) == np.hstack(class_labels_of_instance_in_bags)))\n",
        "print(\"----\")\n",
        "\n",
        "print(\"MIL instance unit accuracy (label adjusted)\")\n",
        "print(np.mean(np.hstack(y_mil) == np.hstack(class_labels_of_instance_in_bags)))\n",
        "print(\"----\")\n",
        "\n",
        "print(\"SIL instance unit accuracy\")\n",
        "clf.fit(np.vstack(bags), np.hstack(class_labels_of_instance_in_bags))\n",
        "print(np.mean(clf.predict(np.vstack(bags)) == np.hstack(class_labels_of_instance_in_bags)))\n",
        "print(\"----\")\n"
      ],
      "execution_count": 15,
      "outputs": [
        {
          "output_type": "stream",
          "name": "stdout",
          "text": [
            "iter: 0\n",
            "false negative instances\n",
            "-43.0\n",
            "false positive instances\n",
            "13.0\n",
            "num changes instances\n",
            "1642\n",
            "instance unit accuracy\n",
            "0.8457921261834974\n",
            "instance unit accuracy (label adjusted)\n",
            "0.869177403369673\n",
            "-----\n",
            "iter: 1\n",
            "false negative instances\n",
            "-15.0\n",
            "false positive instances\n",
            "0.0\n",
            "num changes instances\n",
            "279\n",
            "instance unit accuracy\n",
            "0.897475908314531\n",
            "instance unit accuracy (label adjusted)\n",
            "0.9000695864875693\n",
            "-----\n",
            "iter: 2\n",
            "false negative instances\n",
            "-8.0\n",
            "false positive instances\n",
            "11.0\n",
            "num changes instances\n",
            "191\n",
            "instance unit accuracy\n",
            "0.9085886595112076\n",
            "instance unit accuracy (label adjusted)\n",
            "0.9106340805094575\n",
            "-----\n",
            "iter: 3\n",
            "false negative instances\n",
            "-8.0\n",
            "false positive instances\n",
            "1.0\n",
            "num changes instances\n",
            "171\n",
            "instance unit accuracy\n",
            "0.9104864728085528\n",
            "instance unit accuracy (label adjusted)\n",
            "0.9125318938068026\n",
            "-----\n",
            "iter: 4\n",
            "false negative instances\n",
            "-8.0\n",
            "false positive instances\n",
            "0.0\n",
            "num changes instances\n",
            "160\n",
            "instance unit accuracy\n",
            "0.9132277586824958\n",
            "instance unit accuracy (label adjusted)\n",
            "0.9147670961347869\n",
            "-----\n",
            "iter: 5\n",
            "false negative instances\n",
            "-6.0\n",
            "false positive instances\n",
            "0.0\n",
            "num changes instances\n",
            "148\n",
            "instance unit accuracy\n",
            "0.9137127554140396\n",
            "instance unit accuracy (label adjusted)\n",
            "0.9152099192375008\n",
            "-----\n",
            "iter: 6\n",
            "false negative instances\n",
            "-6.0\n",
            "false positive instances\n",
            "13.0\n",
            "num changes instances\n",
            "149\n",
            "instance unit accuracy\n",
            "0.9129747169095165\n",
            "instance unit accuracy (label adjusted)\n",
            "0.9141766653311684\n",
            "-----\n",
            "iter: 7\n",
            "false negative instances\n",
            "-6.0\n",
            "false positive instances\n",
            "0.0\n",
            "num changes instances\n",
            "141\n",
            "instance unit accuracy\n",
            "0.9132277586824958\n",
            "instance unit accuracy (label adjusted)\n",
            "0.9145351411762225\n",
            "-----\n",
            "iter: 8\n",
            "false negative instances\n",
            "-6.0\n",
            "false positive instances\n",
            "0.0\n",
            "num changes instances\n",
            "136\n",
            "instance unit accuracy\n",
            "0.9125318938068026\n",
            "instance unit accuracy (label adjusted)\n",
            "0.9137971026716993\n",
            "-----\n",
            "iter: 9\n",
            "false negative instances\n",
            "-6.0\n",
            "false positive instances\n",
            "8.0\n",
            "num changes instances\n",
            "131\n",
            "instance unit accuracy\n",
            "0.912363199291483\n",
            "instance unit accuracy (label adjusted)\n",
            "0.9136705817852097\n",
            "-----\n",
            "MIL instance unit accuracy\n",
            "0.912363199291483\n",
            "----\n",
            "MIL instance unit accuracy (label adjusted)\n",
            "0.9136705817852097\n",
            "----\n",
            "SIL instance unit accuracy\n",
            "0.9738523501254666\n",
            "----\n"
          ]
        }
      ]
    },
    {
      "cell_type": "code",
      "metadata": {
        "id": "iUSnSF00qE1B"
      },
      "source": [
        ""
      ],
      "execution_count": null,
      "outputs": []
    }
  ]
}